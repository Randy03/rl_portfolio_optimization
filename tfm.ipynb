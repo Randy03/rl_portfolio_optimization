{
 "cells": [
  {
   "cell_type": "code",
   "execution_count": 1,
   "id": "4c6a8912",
   "metadata": {},
   "outputs": [],
   "source": [
    "import os\n",
    "import time\n",
    "from datetime import datetime\n",
    "import numpy as np\n",
    "#import matplotlib.pyplot as plt\n",
    "from collections import deque\n",
    "import gym\n",
    "import pandas as pd\n",
    "from pathlib import Path\n",
    "import sys\n",
    "import random\n",
    "import tensorflow as tf\n",
    "from sqlalchemy import create_engine\n",
    "\n",
    "from environments import PortfolioEnvironment, PortfolioEnvironmentTargetReward\n",
    "from utils import ReplayBufferMultiObs\n",
    "from policies import TD3"
   ]
  },
  {
   "cell_type": "code",
   "execution_count": 2,
   "id": "fe4b8c3b-07f4-4f6a-88f9-fe840d009504",
   "metadata": {
    "tags": []
   },
   "outputs": [],
   "source": [
    "def reshape_dict_state(state):\n",
    "    obs = {}\n",
    "    for key,value in state.items():\n",
    "        obs[key] = np.array([value])\n",
    "    return obs"
   ]
  },
  {
   "cell_type": "code",
   "execution_count": 3,
   "id": "81504c23-3906-4d8b-85a2-94631ac92a01",
   "metadata": {},
   "outputs": [],
   "source": [
    "engine = create_engine(f'mysql+pymysql://{os.environ[\"MYSQL_USER\"]}:{os.environ[\"MYSQL_PASSWORD\"]}@{os.environ[\"MYSQL_SERVER\"]}:{os.environ[\"MYSQL_PORT\"]}/tfm')"
   ]
  },
  {
   "cell_type": "code",
   "execution_count": 4,
   "id": "26266508-cc6a-4b43-a616-ab3461ed48a9",
   "metadata": {
    "tags": []
   },
   "outputs": [],
   "source": [
    "seed = 0\n",
    "load_model = True\n",
    "start_timesteps = 1e4 if not load_model else 1e3 # Number of timesteps in which the model choose a random action, after that number starts using the policy\n",
    "save_freq = 5e3\n",
    "max_timesteps = 7e5 \n",
    "expl_noise = 0.05 # Exploration noise \n",
    "batch_size = 100 \n",
    "discount = 0.97 # reward Discount factor gamma \n",
    "tau = 0.005 # target weights update ratio\n",
    "policy_noise = 0.0 # std deviation of gaussian noise to be added to the action, for exploration purposes\n",
    "noise_clip = 0.4 # max value of gaussian noise added to action\n",
    "policy_freq = 2 # actor model weights update frecuency\n"
   ]
  },
  {
   "cell_type": "code",
   "execution_count": 5,
   "id": "289aaf8c-8fea-4add-b929-107ac572bc99",
   "metadata": {},
   "outputs": [],
   "source": [
    "model_path = './models/21_05_2022_11_48_02' \n",
    "max_steps = 200\n",
    "fee = 0.25/100\n",
    "window = 50"
   ]
  },
  {
   "cell_type": "code",
   "execution_count": 6,
   "id": "27290bf0-3ac6-46f0-ba0d-39c1f445be33",
   "metadata": {},
   "outputs": [],
   "source": [
    "tickers = \"('AAPL','AMZN','BA','COIN','FB','GM','GOLD','GOOG','JNJ','JPM','KO','MSFT','NKE','NVDA','PFE','SPY','SQ','TSLA','V','WMT','XOM')\""
   ]
  },
  {
   "cell_type": "code",
   "execution_count": 7,
   "id": "cfacaa01-23be-450a-a9a0-f54f14fc0e9e",
   "metadata": {
    "tags": []
   },
   "outputs": [],
   "source": [
    "#tickers = ['AAPL','AMZN','GM','GOLD','JPM','MSFT','NVDA','KO','TSLA','V','XOM','WMT']\n",
    "assets_data_list = []\n",
    "assets_data_list_test = []\n",
    "tickers = {v: k for k, v in engine.execute(f\"SELECT id,ticker FROM tickers where ticker in {tickers} order by id asc\").fetchall()}\n",
    "for t in tickers.keys():\n",
    "    #assets_data_list.append(pd.read_csv(f'./data/{t}.csv'))\n",
    "    assets_data_list.append(pd.read_sql(f\"SELECT close,high,low from historical_hour inner join tickers on ticker_id = tickers.id where ticker = '{t}' order by time asc\",engine))\n",
    "    assets_data_list_test.append(assets_data_list[-1].tail(max_steps+window))\n",
    "    assets_data_list[-1] = assets_data_list[-1].iloc[:assets_data_list[-1].shape[0]-max_steps,]\n",
    "\n",
    "target = pd.read_sql(\"select close from historical_hour inner join tickers on ticker_id = tickers.id where ticker = 'SPY' order by time asc\",engine)"
   ]
  },
  {
   "cell_type": "markdown",
   "id": "071fb63e-a14b-4940-ad33-3cdc19eec723",
   "metadata": {},
   "source": [
    "Por algun motivo cuando agrego otro feature que tiene el indice, hay mejores resultados\n",
    "Cosas por probar: seguir entrenando, con diferentes expl_noise, cambiar la funcion softmax de activacion por una custom q no tome los exponentes, reentrenar usando el modelo en ./models/03_05_2022_13_35_56 , se entreno con datos normalizados, \n",
    "\n",
    "cambiar la funcion softmax de activacion por una custom q no tome los exponentes, probar que pasa si no estan normalizados, Se cambiaron ambas cosas hubo mejores resultados, ahora los weights no se mantienen constante aun poniendo la exploracion en cero, el resultado de ese modelo esta en ./models/05_05_2022_09_53_14\n",
    "\n",
    "Probar nuevamente datos normalizados, en la ultima columna dejar el numero de episodio, pero que vaya siempre desde 1 al ultimo del batch, esto esta en ./models/06_05_2022_17_41_13\n",
    "\n",
    "\n",
    "funcion reward que tenga en cuenta cuanta guita esta haciendo pero tambien comparar contra un indicador del mercado esto es para lograr que recompense mejor si esta opearndo por encima del mercado, ./models/21_05_2022_11_48_02\n",
    "\n",
    "tomar acciones de otro tipo de industrias se entreno con portfolio mas variado ./models/17_05_2022_08_29_45 y ./models/19_05_2022_14_23_56 20_05_2022_08_24_18"
   ]
  },
  {
   "cell_type": "code",
   "execution_count": 8,
   "id": "35ce7229-32ee-449c-9a65-aed6b0fbe473",
   "metadata": {},
   "outputs": [],
   "source": [
    "#env = PortfolioEnvironment(tickers.keys(),assets_data_list,fee=fee,look_back_window=window,max_steps=max_steps)\n",
    "env = PortfolioEnvironmentTargetReward(tickers.keys(),assets_data_list,target.to_numpy().reshape(1,-1)[0],fee=fee,look_back_window=window,max_steps=max_steps)\n"
   ]
  },
  {
   "cell_type": "code",
   "execution_count": 9,
   "id": "c213e462-73a5-4da0-ad27-d8095fd88516",
   "metadata": {},
   "outputs": [],
   "source": [
    "state_dim = env.observation_space[\"data\"].shape\n",
    "action_dim = env.action_space.shape[0]\n",
    "max_action = float(env.action_space.high[0])"
   ]
  },
  {
   "cell_type": "code",
   "execution_count": 10,
   "id": "4d961e38-4c06-4a95-b9a0-83b8418574c1",
   "metadata": {},
   "outputs": [],
   "source": [
    "policy = TD3(state_dim,action_dim,max_action)\n",
    "\n",
    "replay_buffer = ReplayBufferMultiObs()"
   ]
  },
  {
   "cell_type": "code",
   "execution_count": 11,
   "id": "676e6e78-6bb8-463d-97e0-09622ad407bd",
   "metadata": {},
   "outputs": [],
   "source": [
    "if load_model:\n",
    "    policy.load(model_path)"
   ]
  },
  {
   "cell_type": "code",
   "execution_count": 12,
   "id": "69da470a-645a-4657-baaa-d27be6009783",
   "metadata": {},
   "outputs": [],
   "source": [
    "total_timesteps = 0\n",
    "timesteps_since_eval = 0\n",
    "episode_num = 0\n",
    "done = True\n",
    "saved_models_path = f'./models/{datetime.now().strftime(\"%d_%m_%Y_%H_%M_%S\")}'"
   ]
  },
  {
   "cell_type": "code",
   "execution_count": null,
   "id": "d1ec426b-1aae-41c0-bcef-6ed4163bca9a",
   "metadata": {
    "tags": []
   },
   "outputs": [
    {
     "name": "stdout",
     "output_type": "stream",
     "text": [
      "Total timesteps: 200 Episode Num: 1 Reward: -19179.861153477814 Portfolio Value:59311.298057563654\n",
      "Total timesteps: 400 Episode Num: 2 Reward: -23959.691571693373 Portfolio Value:57357.44134739017\n"
     ]
    }
   ],
   "source": [
    "start_time=time.time()\n",
    "info_list = []\n",
    "while total_timesteps < max_timesteps:\n",
    "    if done:\n",
    "        if total_timesteps != 0:\n",
    "            print(f'Total timesteps: {total_timesteps} Episode Num: {episode_num} Reward: {episode_reward} Portfolio Value:{env.portfolio_value_units}')\n",
    "            policy.train(replay_buffer,episode_timesteps, batch_size, discount, tau, policy_noise, noise_clip, policy_freq)\n",
    "        \n",
    "        if timesteps_since_eval >= save_freq:\n",
    "            timesteps_since_eval %= save_freq\n",
    "            policy.save(saved_models_path)\n",
    "            #print(f'Total timesteps: {total_timesteps} Episode Num: {episode_num} Reward: {episode_reward} Portfolio Value:{env.portfolio_value_units}')\n",
    "\n",
    "        \n",
    "        obs = env.reset()\n",
    "        done = False\n",
    "        \n",
    "        episode_reward = 0\n",
    "        episode_timesteps = 0\n",
    "        episode_num +=1\n",
    "        \n",
    "    if total_timesteps < start_timesteps:\n",
    "        #action = tf.nn.softmax(env.action_space.sample()+ np.random.normal(0,1,size=env.action_space.shape[0])).numpy()\n",
    "        action = np.clip(np.random.normal(2,3,size=env.action_space.shape[0]),0,None)\n",
    "        action = action/action.sum()\n",
    "    else:\n",
    "        action = policy.select_action(reshape_dict_state(obs))\n",
    "        #print(action)\n",
    "        if expl_noise != 0: \n",
    "            action = np.clip(action + np.random.normal(0,expl_noise,size=env.action_space.shape[0]),0,None)\n",
    "            action = action/action.sum()\n",
    "            #action = tf.nn.softmax((action + np.random.normal(0,expl_noise,size=env.action_space.shape[0]))).numpy()\n",
    "    \n",
    "    \n",
    "    next_obs,reward,done, info = env.step(action)\n",
    "    info_list.append(info)\n",
    "    done_bool = 0 if episode_timesteps +1 == env.max_steps else float(done)\n",
    "    \n",
    "    \n",
    "    episode_reward += reward\n",
    "    replay_buffer.add((obs,next_obs,action,reward,done_bool))\n",
    "    \n",
    "    obs = next_obs\n",
    "    episode_timesteps +=1\n",
    "    total_timesteps +=1\n",
    "    timesteps_since_eval +=1\n",
    "\n",
    "\n",
    "policy.save(saved_models_path)\n",
    "print(f'Tiempo de entrenamiento: {time.time()-start_time} segundos')"
   ]
  },
  {
   "cell_type": "code",
   "execution_count": 13,
   "id": "1e3596ed-8445-4081-ba81-856b024c377f",
   "metadata": {},
   "outputs": [],
   "source": [
    "import matplotlib.pyplot as plt\n",
    "from environments import PortfolioEnvironmentTest"
   ]
  },
  {
   "cell_type": "code",
   "execution_count": 15,
   "id": "4c76eea7-3953-4100-9bae-3bb6731fc423",
   "metadata": {
    "tags": []
   },
   "outputs": [
    {
     "name": "stdout",
     "output_type": "stream",
     "text": [
      "-9806.855350136\n"
     ]
    }
   ],
   "source": [
    "env2 = PortfolioEnvironmentTest(tickers.keys(),assets_data_list_test,fee=fee,look_back_window=window)\n",
    "\n",
    "#for m in os.listdir('./models'):\n",
    "policy.load(f'./models/20_05_2022_08_24_18')\n",
    "state = env2.reset()\n",
    "done = False\n",
    "total_reward = 0\n",
    "infos = []\n",
    "\n",
    "while not done:\n",
    "    action = policy.select_action(reshape_dict_state(state))\n",
    "    state, reward, done, info = env2.step(action)\n",
    "    #print(reward)\n",
    "    total_reward += reward\n",
    "    infos.append(info)\n",
    "    #print(action)\n",
    "\n",
    "print(total_reward)"
   ]
  },
  {
   "cell_type": "code",
   "execution_count": 28,
   "id": "ea1c752c-8cd5-4466-a010-bbb45b3533a4",
   "metadata": {},
   "outputs": [],
   "source": [
    "p_evolution = [1.0]\n",
    "for info in infos:\n",
    "    p_evolution.append(info['value'])\n",
    "    "
   ]
  },
  {
   "cell_type": "code",
   "execution_count": 35,
   "id": "6b53c204-244c-4d3e-bb05-60a2f1cf451b",
   "metadata": {},
   "outputs": [
    {
     "data": {
      "text/plain": [
       "<matplotlib.legend.Legend at 0x1e5a7921a00>"
      ]
     },
     "execution_count": 35,
     "metadata": {},
     "output_type": "execute_result"
    },
    {
     "data": {
      "image/png": "[encoded data removed]",
      "text/plain": [
       "<Figure size 432x288 with 1 Axes>"
      ]
     },
     "metadata": {
      "needs_background": "light"
     },
     "output_type": "display_data"
    }
   ],
   "source": [
    "pd.Series(p_evolution).reset_index(drop=True).plot()\n",
    "for a in assets_data_list_test:\n",
    "    (a.iloc[50:,0]/a.iloc[50,0]).reset_index(drop=True).plot()\n",
    "plt.legend(['Portfolio','1','2','3','4','5','6','7','8','9','10','11'],loc=3)"
   ]
  },
  {
   "cell_type": "code",
   "execution_count": 27,
   "id": "866f07f9-1fa7-47eb-a9bc-f6ca4fa6ed74",
   "metadata": {},
   "outputs": [
    {
     "data": {
      "text/plain": [
       "1578    163.65\n",
       "1579    164.67\n",
       "1580    164.76\n",
       "1581    165.38\n",
       "1582    168.07\n",
       "         ...  \n",
       "1773    160.36\n",
       "1774    160.15\n",
       "1775    159.95\n",
       "1776    158.74\n",
       "1777    157.65\n",
       "Name: close, Length: 200, dtype: float64"
      ]
     },
     "execution_count": 27,
     "metadata": {},
     "output_type": "execute_result"
    }
   ],
   "source": [
    "serie"
   ]
  },
  {
   "cell_type": "markdown",
   "id": "e841a736-9fe8-4112-a2cc-36348ec0f239",
   "metadata": {},
   "source": [
    "# ------ PRUEBAS---------"
   ]
  },
  {
   "cell_type": "code",
   "execution_count": 27,
   "id": "c83d130b-edff-4471-8693-f2aaeb35d575",
   "metadata": {},
   "outputs": [
    {
     "name": "stdout",
     "output_type": "stream",
     "text": [
      "1.1928068269087038\n",
      "{'weights': array([0.        , 0.12493297, 0.        , 0.12493297, 0.12493297,\n",
      "       0.        , 0.12493297, 0.12493297, 0.12493297, 0.00053627,\n",
      "       0.12493297, 0.12493297], dtype=float32), 'value': 1.1928068269087038, 'position': 940}\n"
     ]
    }
   ],
   "source": [
    "max_value = 0\n",
    "index = 0\n",
    "for i,v in enumerate(info_list):\n",
    "    if v['value'] > max_value:\n",
    "        max_value = v['value']\n",
    "        index = i\n",
    "print(max_value)\n",
    "print(info_list[index])\n"
   ]
  },
  {
   "cell_type": "code",
   "execution_count": 45,
   "id": "3a6115ae-8e42-4c87-8b0e-023217016792",
   "metadata": {},
   "outputs": [
    {
     "data": {
      "text/plain": [
       "{'weights': array([0.1279268 , 0.1328057 , 0.        , 0.07251303, 0.04147185,\n",
       "        0.        , 0.05293043, 0.08518989, 0.0713501 , 0.00406993,\n",
       "        0.07308968, 0.33865255], dtype=float32),\n",
       " 'value': 0.9978198170743418,\n",
       " 'position': 767}"
      ]
     },
     "execution_count": 45,
     "metadata": {},
     "output_type": "execute_result"
    }
   ],
   "source": [
    "info_list[index-173] #+26 es el ultimo"
   ]
  },
  {
   "cell_type": "code",
   "execution_count": 46,
   "id": "0a349292-1577-42bd-b5fd-0a0609b3febc",
   "metadata": {
    "tags": []
   },
   "outputs": [
    {
     "data": {
      "text/plain": [
       "(200, 12)"
      ]
     },
     "execution_count": 46,
     "metadata": {},
     "output_type": "execute_result"
    }
   ],
   "source": [
    "#pos 249\n",
    "weights = []\n",
    "for d in info_list[index-173:index+27]:\n",
    "    weights.append(d['weights'])\n",
    "weights = np.array(weights)\n",
    "weights.shape"
   ]
  },
  {
   "cell_type": "code",
   "execution_count": 51,
   "id": "63735bb1-d8ef-41ca-8f9b-074a9d1a8777",
   "metadata": {},
   "outputs": [
    {
     "data": {
      "text/plain": [
       "array([2.29485458e-10, 1.21506825e-01, 0.00000000e+00, 1.21506825e-01,\n",
       "       1.21506825e-01, 0.00000000e+00, 1.21506825e-01, 1.21506825e-01,\n",
       "       1.21506825e-01, 2.79453751e-02, 1.21506825e-01, 1.21506825e-01],\n",
       "      dtype=float32)"
      ]
     },
     "execution_count": 51,
     "metadata": {},
     "output_type": "execute_result"
    }
   ],
   "source": [
    "weights[3]"
   ]
  },
  {
   "cell_type": "code",
   "execution_count": 47,
   "id": "b2d33c74-2a87-40c0-b197-d71b58eddf46",
   "metadata": {
    "collapsed": true,
    "jupyter": {
     "outputs_hidden": true
    },
    "tags": []
   },
   "outputs": [
    {
     "data": {
      "text/plain": [
       "array([[1.00000e+00, 1.27780e+02, 3.20927e+03, ..., 6.45960e+02,\n",
       "        2.26920e+02, 5.98600e+01],\n",
       "       [1.00000e+00, 1.27860e+02, 3.21878e+03, ..., 6.45240e+02,\n",
       "        2.26860e+02, 5.99200e+01],\n",
       "       [1.00000e+00, 1.27720e+02, 3.22276e+03, ..., 6.38120e+02,\n",
       "        2.25840e+02, 6.00200e+01],\n",
       "       ...,\n",
       "       [1.00000e+00, 1.30440e+02, 3.50097e+03, ..., 6.24820e+02,\n",
       "        2.30520e+02, 5.89100e+01],\n",
       "       [1.00000e+00, 1.30270e+02, 3.49281e+03, ..., 6.25000e+02,\n",
       "        2.30720e+02, 5.86100e+01],\n",
       "       [1.00000e+00, 1.30400e+02, 3.49101e+03, ..., 6.22430e+02,\n",
       "        2.30380e+02, 5.86400e+01]])"
      ]
     },
     "execution_count": 47,
     "metadata": {},
     "output_type": "execute_result"
    }
   ],
   "source": [
    "data = env.buffer.data\n",
    "data = data[:,50:250,1].T\n",
    "data = np.concatenate((np.ones(shape=(data.shape[0],1)),data),axis=1)\n",
    "data"
   ]
  },
  {
   "cell_type": "code",
   "execution_count": 49,
   "id": "31a3f276-da8b-42e9-8608-c0bc77483e3c",
   "metadata": {},
   "outputs": [
    {
     "data": {
      "text/plain": [
       "(200, 12)"
      ]
     },
     "execution_count": 49,
     "metadata": {},
     "output_type": "execute_result"
    }
   ],
   "source": [
    "data.shape"
   ]
  },
  {
   "cell_type": "code",
   "execution_count": 66,
   "id": "170c7f58-2625-4f1e-ba27-ce800ab33886",
   "metadata": {},
   "outputs": [],
   "source": [
    "portfolio_value = []\n",
    "valor = 100000\n",
    "for i in range(1,data.shape[0]):\n",
    "    valor = (weights[i-1]*valor/data[i-1]*data[i]).sum()\n",
    "    portfolio_value.append(valor)"
   ]
  },
  {
   "cell_type": "code",
   "execution_count": 73,
   "id": "a9465183-74be-4846-9ebe-9881ea7309cb",
   "metadata": {},
   "outputs": [
    {
     "data": {
      "text/plain": [
       "<AxesSubplot:>"
      ]
     },
     "execution_count": 73,
     "metadata": {},
     "output_type": "execute_result"
    },
    {
     "data": {
      "image/png": "[encoded data removed]",
      "text/plain": [
       "<Figure size 432x288 with 1 Axes>"
      ]
     },
     "metadata": {
      "needs_background": "light"
     },
     "output_type": "display_data"
    }
   ],
   "source": [
    "pd.Series(portfolio_value).plot()"
   ]
  },
  {
   "cell_type": "code",
   "execution_count": null,
   "id": "ecbfb0b9-b8b6-4b6e-ac8d-08cdcfcb11aa",
   "metadata": {},
   "outputs": [],
   "source": []
  }
 ],
 "metadata": {
  "kernelspec": {
   "display_name": "Python [conda env:rl_gpu]",
   "language": "python",
   "name": "conda-env-rl_gpu-py"
  },
  "language_info": {
   "codemirror_mode": {
    "name": "ipython",
    "version": 3
   },
   "file_extension": ".py",
   "mimetype": "text/x-python",
   "name": "python",
   "nbconvert_exporter": "python",
   "pygments_lexer": "ipython3",
   "version": "3.9.7"
  }
 },
 "nbformat": 4,
 "nbformat_minor": 5
}
