{
 "cells": [
  {
   "cell_type": "code",
   "execution_count": 2,
   "id": "29cd38cd-2a6f-4799-97b5-7fba2882d4e6",
   "metadata": {},
   "outputs": [],
   "source": [
    "import pandas as pd"
   ]
  },
  {
   "cell_type": "code",
   "execution_count": 5,
   "id": "eeed165b-df23-4332-80f2-a83541a1b86e",
   "metadata": {},
   "outputs": [],
   "source": [
    "aapl = pd.read_excel('AAPL.xlsx')"
   ]
  },
  {
   "cell_type": "code",
   "execution_count": 11,
   "id": "e8a47b92-07db-4fe9-9c72-ac157de02eeb",
   "metadata": {},
   "outputs": [],
   "source": [
    "aapl = aapl.dropna()[['Close','High','Low']]"
   ]
  },
  {
   "cell_type": "code",
   "execution_count": 10,
   "id": "f0006f67-3674-4417-89ad-6b2550b051bf",
   "metadata": {},
   "outputs": [
    {
     "data": {
      "text/plain": [
       "Time Interval     object\n",
       "Close            float64\n",
       "Net Chg          float64\n",
       "Open             float64\n",
       "High             float64\n",
       "Low              float64\n",
       "Tick Count       float64\n",
       "Volume            object\n",
       "dtype: object"
      ]
     },
     "execution_count": 10,
     "metadata": {},
     "output_type": "execute_result"
    }
   ],
   "source": [
    "aapl.dtypes"
   ]
  },
  {
   "cell_type": "code",
   "execution_count": 8,
   "id": "e5ee9b58-3627-4cf6-a59d-c1f8a6a7f16a",
   "metadata": {},
   "outputs": [
    {
     "data": {
      "text/plain": [
       "11"
      ]
     },
     "execution_count": 8,
     "metadata": {},
     "output_type": "execute_result"
    }
   ],
   "source": [
    "tickers = ['AAPL','AMZN','COIN','FB','GOOG','MSFT','NVDA','SQ','TSLA','V','XOM']\n",
    "len(tickers)"
   ]
  },
  {
   "cell_type": "code",
   "execution_count": 17,
   "id": "74c75f97-c5de-4ff2-8256-091ef7834cc2",
   "metadata": {},
   "outputs": [],
   "source": [
    "for t in tickers:\n",
    "    pd.read_excel(f'{t}.xlsx').dropna().reset_index()[['Close','High','Low']].iloc[:1161,].to_csv(f'../{t}.csv')"
   ]
  },
  {
   "cell_type": "code",
   "execution_count": 13,
   "id": "e23b6ca7-c91d-44a6-8eca-563f7acba7ea",
   "metadata": {},
   "outputs": [
    {
     "name": "stdout",
     "output_type": "stream",
     "text": [
      "1161\n",
      "1161\n",
      "1161\n",
      "1161\n",
      "1161\n",
      "1161\n",
      "1161\n",
      "1163\n",
      "1161\n",
      "1163\n",
      "1163\n"
     ]
    }
   ],
   "source": [
    "for df in dfs:\n",
    "    print(len(df))"
   ]
  },
  {
   "cell_type": "code",
   "execution_count": 16,
   "id": "c7ee1e99-29f0-4f32-b0f3-54859df761ff",
   "metadata": {},
   "outputs": [
    {
     "data": {
      "text/html": [
       "<div>\n",
       "<style scoped>\n",
       "    .dataframe tbody tr th:only-of-type {\n",
       "        vertical-align: middle;\n",
       "    }\n",
       "\n",
       "    .dataframe tbody tr th {\n",
       "        vertical-align: top;\n",
       "    }\n",
       "\n",
       "    .dataframe thead th {\n",
       "        text-align: right;\n",
       "    }\n",
       "</style>\n",
       "<table border=\"1\" class=\"dataframe\">\n",
       "  <thead>\n",
       "    <tr style=\"text-align: right;\">\n",
       "      <th></th>\n",
       "      <th>index</th>\n",
       "      <th>Close</th>\n",
       "      <th>High</th>\n",
       "      <th>Low</th>\n",
       "    </tr>\n",
       "  </thead>\n",
       "  <tbody>\n",
       "    <tr>\n",
       "      <th>0</th>\n",
       "      <td>0</td>\n",
       "      <td>104.620</td>\n",
       "      <td>274.370</td>\n",
       "      <td>82.720</td>\n",
       "    </tr>\n",
       "    <tr>\n",
       "      <th>1</th>\n",
       "      <td>2</td>\n",
       "      <td>270.032</td>\n",
       "      <td>270.500</td>\n",
       "      <td>267.940</td>\n",
       "    </tr>\n",
       "    <tr>\n",
       "      <th>2</th>\n",
       "      <td>3</td>\n",
       "      <td>271.820</td>\n",
       "      <td>272.710</td>\n",
       "      <td>269.640</td>\n",
       "    </tr>\n",
       "    <tr>\n",
       "      <th>3</th>\n",
       "      <td>4</td>\n",
       "      <td>272.755</td>\n",
       "      <td>273.150</td>\n",
       "      <td>271.212</td>\n",
       "    </tr>\n",
       "    <tr>\n",
       "      <th>4</th>\n",
       "      <td>5</td>\n",
       "      <td>271.000</td>\n",
       "      <td>273.000</td>\n",
       "      <td>270.795</td>\n",
       "    </tr>\n",
       "    <tr>\n",
       "      <th>...</th>\n",
       "      <td>...</td>\n",
       "      <td>...</td>\n",
       "      <td>...</td>\n",
       "      <td>...</td>\n",
       "    </tr>\n",
       "    <tr>\n",
       "      <th>1156</th>\n",
       "      <td>1322</td>\n",
       "      <td>97.850</td>\n",
       "      <td>104.680</td>\n",
       "      <td>97.850</td>\n",
       "    </tr>\n",
       "    <tr>\n",
       "      <th>1157</th>\n",
       "      <td>1323</td>\n",
       "      <td>99.330</td>\n",
       "      <td>100.068</td>\n",
       "      <td>97.390</td>\n",
       "    </tr>\n",
       "    <tr>\n",
       "      <th>1158</th>\n",
       "      <td>1324</td>\n",
       "      <td>101.310</td>\n",
       "      <td>101.680</td>\n",
       "      <td>98.310</td>\n",
       "    </tr>\n",
       "    <tr>\n",
       "      <th>1159</th>\n",
       "      <td>1325</td>\n",
       "      <td>104.060</td>\n",
       "      <td>104.366</td>\n",
       "      <td>101.140</td>\n",
       "    </tr>\n",
       "    <tr>\n",
       "      <th>1160</th>\n",
       "      <td>1326</td>\n",
       "      <td>104.810</td>\n",
       "      <td>105.660</td>\n",
       "      <td>103.670</td>\n",
       "    </tr>\n",
       "  </tbody>\n",
       "</table>\n",
       "<p>1161 rows × 4 columns</p>\n",
       "</div>"
      ],
      "text/plain": [
       "      index    Close     High      Low\n",
       "0         0  104.620  274.370   82.720\n",
       "1         2  270.032  270.500  267.940\n",
       "2         3  271.820  272.710  269.640\n",
       "3         4  272.755  273.150  271.212\n",
       "4         5  271.000  273.000  270.795\n",
       "...     ...      ...      ...      ...\n",
       "1156   1322   97.850  104.680   97.850\n",
       "1157   1323   99.330  100.068   97.390\n",
       "1158   1324  101.310  101.680   98.310\n",
       "1159   1325  104.060  104.366  101.140\n",
       "1160   1326  104.810  105.660  103.670\n",
       "\n",
       "[1161 rows x 4 columns]"
      ]
     },
     "execution_count": 16,
     "metadata": {},
     "output_type": "execute_result"
    }
   ],
   "source": [
    "dfs[7].reset_index().iloc[:1161,]"
   ]
  },
  {
   "cell_type": "code",
   "execution_count": null,
   "id": "6c90b045-27af-446d-a8e1-0ade05db4637",
   "metadata": {},
   "outputs": [],
   "source": []
  }
 ],
 "metadata": {
  "kernelspec": {
   "display_name": "Python 3 (ipykernel)",
   "language": "python",
   "name": "python3"
  },
  "language_info": {
   "codemirror_mode": {
    "name": "ipython",
    "version": 3
   },
   "file_extension": ".py",
   "mimetype": "text/x-python",
   "name": "python",
   "nbconvert_exporter": "python",
   "pygments_lexer": "ipython3",
   "version": "3.9.7"
  }
 },
 "nbformat": 4,
 "nbformat_minor": 5
}
